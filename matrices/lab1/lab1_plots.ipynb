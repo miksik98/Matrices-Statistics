{
 "cells": [
  {
   "cell_type": "code",
   "execution_count": 5,
   "metadata": {},
   "outputs": [
    {
     "name": "stdout",
     "output_type": "stream",
     "text": [
      "ijk / 10: 0.0017592906951904297\n",
      "ikj / 10: 0.0027017593383789062\n",
      "kij / 10: 0.002229928970336914\n",
      "kji / 10: 0.002398967742919922\n",
      "jki / 10: 0.0017511844635009766\n",
      "jik / 10: 0.0019021034240722656\n",
      "ijk / 10: 0.0019769668579101562\n",
      "ikj / 10: 0.0019741058349609375\n",
      "kij / 10: 0.0018229484558105469\n",
      "kji / 10: 0.0025701522827148438\n",
      "jki / 10: 0.002199888229370117\n",
      "jik / 10: 0.0026891231536865234\n",
      "ijk / 10: 0.0017232894897460938\n",
      "ikj / 10: 0.0030090808868408203\n",
      "kij / 10: 0.002004861831665039\n",
      "kji / 10: 0.002621173858642578\n",
      "jki / 10: 0.0021049976348876953\n",
      "jik / 10: 0.0019230842590332031\n",
      "ijk / 10: 0.0015957355499267578\n",
      "ikj / 10: 0.0016689300537109375\n",
      "kij / 10: 0.0015959739685058594\n",
      "kji / 10: 0.0017359256744384766\n",
      "jki / 10: 0.0019218921661376953\n",
      "jik / 10: 0.0016961097717285156\n",
      "ijk / 100: 1.3638269901275635\n",
      "ikj / 100: 1.8035340309143066\n",
      "kij / 100: 1.3142189979553223\n",
      "kji / 100: 1.3054909706115723\n",
      "jki / 100: 1.327148199081421\n",
      "jik / 100: 1.3670971393585205\n",
      "ijk / 100: 1.804567813873291\n",
      "ikj / 100: 1.6648669242858887\n",
      "kij / 100: 2.3713769912719727\n",
      "kji / 100: 1.460974931716919\n",
      "jki / 100: 1.3975169658660889\n",
      "jik / 100: 1.4281446933746338\n",
      "ijk / 100: 1.3397250175476074\n",
      "ikj / 100: 1.2854819297790527\n",
      "kij / 100: 1.486314058303833\n",
      "kji / 100: 1.5045959949493408\n",
      "jki / 100: 1.4617459774017334\n",
      "jik / 100: 1.5139849185943604\n",
      "ijk / 100: 1.4419987201690674\n",
      "ikj / 100: 1.423326015472412\n",
      "kij / 100: 1.4256010055541992\n",
      "kji / 100: 1.436673879623413\n",
      "jki / 100: 1.3264708518981934\n",
      "jik / 100: 1.361997127532959\n",
      "ijk / 300: 42.42698001861572\n",
      "ikj / 300: 44.693920850753784\n",
      "kij / 300: 45.883378982543945\n",
      "kji / 300: 49.636025190353394\n",
      "jki / 300: 48.38264322280884\n",
      "jik / 300: 48.70285367965698\n",
      "ijk / 300: 46.512919187545776\n",
      "ikj / 300: 66.89556097984314\n",
      "kij / 300: 50.09135890007019\n",
      "kji / 300: 61.74086809158325\n",
      "jki / 300: 44.284915924072266\n",
      "jik / 300: 43.04447102546692\n",
      "ijk / 300: 62.30839514732361\n",
      "ikj / 300: 59.76893401145935\n",
      "kij / 300: 51.80770206451416\n",
      "kji / 300: 43.6529438495636\n",
      "jki / 300: 41.629091024398804\n",
      "jik / 300: 40.247875928878784\n",
      "ijk / 300: 39.73111295700073\n",
      "ikj / 300: 40.16180610656738\n",
      "kij / 300: 38.985207080841064\n",
      "kji / 300: 39.640294790267944\n",
      "jki / 300: 39.79141020774841\n",
      "jik / 300: 40.04300594329834\n"
     ]
    }
   ],
   "source": [
    "import numpy as np\n",
    "import pandas as pd\n",
    "import time\n",
    "\n",
    "\n",
    "# i -> m\n",
    "# j -> n\n",
    "# k -> l\n",
    "\n",
    "\n",
    "def jki(first, second, m, n, l):\n",
    "    multiply = np.zeros((m, n))\n",
    "    for j in range(0, n):\n",
    "        for k in range(0, l):\n",
    "            for i in range(0, n):\n",
    "                multiply[i][j] += first[i][k] * second[k][j]\n",
    "    return multiply\n",
    "\n",
    "\n",
    "def jik(first, second, m, n, l):\n",
    "    multiply = np.zeros((m, n))\n",
    "    for j in range(0, n):\n",
    "        for i in range(0, m):\n",
    "            for k in range(0, l):\n",
    "                multiply[i][j] += first[i][k] * second[k][j]\n",
    "    return multiply\n",
    "\n",
    "\n",
    "def kij(first, second, m, n, l):\n",
    "    multiply = np.zeros((m, n))\n",
    "    for k in range(0, l):\n",
    "        for i in range(0, m):\n",
    "            for j in range(0, n):\n",
    "                multiply[i][j] += first[i][k] * second[k][j]\n",
    "    return multiply\n",
    "\n",
    "\n",
    "def kji(first, second, m, n, l):\n",
    "    multiply = np.zeros((m, n))\n",
    "    for k in range(0, l):\n",
    "        for j in range(0, n):\n",
    "            for i in range(0, m):\n",
    "                multiply[i][j] += first[i][k] * second[k][j]\n",
    "    return multiply\n",
    "\n",
    "\n",
    "def ijk(first, second, m, n, l):\n",
    "    multiply = np.zeros((m, n))\n",
    "    for i in range(0, m):\n",
    "        for j in range(0, n):\n",
    "            for k in range(0, l):\n",
    "                multiply[i][j] += first[i][k] * second[k][j]\n",
    "    return multiply\n",
    "\n",
    "\n",
    "def ikj(first, second, m, n, l):\n",
    "    multiply = np.zeros((m, n))\n",
    "    for i in range(0, m):\n",
    "        for k in range(0, n):\n",
    "            for j in range(0, l):\n",
    "                multiply[i][j] += first[i][k] * second[k][j]\n",
    "    return multiply\n",
    "\n",
    "\n",
    "sizes = [10, 100, 300, 1000]\n",
    "algorithms = [ijk, ikj, kij, kji, jki, jik]\n",
    "samples_no = 4\n",
    "results = {s: pd.DataFrame(columns=[fun.__name__ for fun in algorithms]) for s in sizes}\n",
    "\n",
    "for size in sizes:\n",
    "    first = np.random.rand(size, size)\n",
    "    second = np.random.rand(size, size)\n",
    "    res = {}\n",
    "    for x in range(samples_no):\n",
    "        for algorithm in algorithms:\n",
    "            start = time.time()\n",
    "            algorithm(first, second, size, size, size)\n",
    "            stop = time.time()\n",
    "            exec_time = stop - start\n",
    "            res[algorithm.__name__] = exec_time\n",
    "            print(algorithm.__name__ + \" / \" + str(size) + \": \" + str(exec_time))\n",
    "        results[size] = results[size].append(res, ignore_index=True)"
   ]
  },
  {
   "cell_type": "code",
   "execution_count": 6,
   "metadata": {},
   "outputs": [
    {
     "name": "stdout",
     "output_type": "stream",
     "text": [
      "{10:         ijk       ikj       kij       kji       jki       jik\n",
      "0  0.001759  0.002702  0.002230  0.002399  0.001751  0.001902\n",
      "1  0.001977  0.001974  0.001823  0.002570  0.002200  0.002689\n",
      "2  0.001723  0.003009  0.002005  0.002621  0.002105  0.001923\n",
      "3  0.001596  0.001669  0.001596  0.001736  0.001922  0.001696, 100:         ijk       ikj       kij       kji       jki       jik\n",
      "0  1.363827  1.803534  1.314219  1.305491  1.327148  1.367097\n",
      "1  1.804568  1.664867  2.371377  1.460975  1.397517  1.428145\n",
      "2  1.339725  1.285482  1.486314  1.504596  1.461746  1.513985\n",
      "3  1.441999  1.423326  1.425601  1.436674  1.326471  1.361997, 300:          ijk        ikj        kij        kji        jki        jik\n",
      "0  42.426980  44.693921  45.883379  49.636025  48.382643  48.702854\n",
      "1  46.512919  66.895561  50.091359  61.740868  44.284916  43.044471\n",
      "2  62.308395  59.768934  51.807702  43.652944  41.629091  40.247876\n",
      "3  39.731113  40.161806  38.985207  39.640295  39.791410  40.043006}\n"
     ]
    }
   ],
   "source": [
    "print(results)"
   ]
  },
  {
   "cell_type": "code",
   "execution_count": 7,
   "metadata": {},
   "outputs": [
    {
     "data": {
      "text/plain": [
       "<AxesSubplot:>"
      ]
     },
     "execution_count": 7,
     "metadata": {},
     "output_type": "execute_result"
    },
    {
     "data": {
      "image/png": "[encoded data removed]",
      "text/plain": [
       "<Figure size 432x288 with 1 Axes>"
      ]
     },
     "metadata": {
      "needs_background": "light"
     },
     "output_type": "display_data"
    }
   ],
   "source": [
    "results[10].mean().plot(kind='bar')"
   ]
  },
  {
   "cell_type": "code",
   "execution_count": 8,
   "metadata": {},
   "outputs": [
    {
     "data": {
      "text/plain": [
       "<AxesSubplot:>"
      ]
     },
     "execution_count": 8,
     "metadata": {},
     "output_type": "execute_result"
    },
    {
     "data": {
      "image/png": "[encoded data removed]",
      "text/plain": [
       "<Figure size 432x288 with 1 Axes>"
      ]
     },
     "metadata": {
      "needs_background": "light"
     },
     "output_type": "display_data"
    }
   ],
   "source": [
    "results[100].mean().plot(kind='bar')"
   ]
  },
  {
   "cell_type": "code",
   "execution_count": 9,
   "metadata": {},
   "outputs": [
    {
     "data": {
      "text/plain": [
       "<AxesSubplot:>"
      ]
     },
     "execution_count": 9,
     "metadata": {},
     "output_type": "execute_result"
    },
    {
     "data": {
      "image/png": "[encoded data removed]",
      "text/plain": [
       "<Figure size 432x288 with 1 Axes>"
      ]
     },
     "metadata": {
      "needs_background": "light"
     },
     "output_type": "display_data"
    }
   ],
   "source": [
    "results[300].mean().plot(kind='bar')"
   ]
  },
  {
   "cell_type": "code",
   "execution_count": 4,
   "metadata": {},
   "outputs": [
    {
     "name": "stdout",
     "output_type": "stream",
     "text": [
      "ijk / 1000: 1590.7559900283813\n",
      "ikj / 1000: 1809.7843267917633\n",
      "kij / 1000: 2211.2294669151306\n",
      "kji / 1000: 3845.056099176407\n",
      "jki / 1000: 2805.2988221645355\n",
      "jik / 1000: 5229.4100160598755\n"
     ]
    }
   ],
   "source": [
    "import numpy as np\n",
    "import pandas as pd\n",
    "import time\n",
    "\n",
    "\n",
    "# i -> m\n",
    "# j -> n\n",
    "# k -> l\n",
    "\n",
    "\n",
    "def jki(first, second, m, n, l):\n",
    "    multiply = np.zeros((m, n))\n",
    "    for j in range(0, n):\n",
    "        for k in range(0, l):\n",
    "            for i in range(0, n):\n",
    "                multiply[i][j] += first[i][k] * second[k][j]\n",
    "    return multiply\n",
    "\n",
    "\n",
    "def jik(first, second, m, n, l):\n",
    "    multiply = np.zeros((m, n))\n",
    "    for j in range(0, n):\n",
    "        for i in range(0, m):\n",
    "            for k in range(0, l):\n",
    "                multiply[i][j] += first[i][k] * second[k][j]\n",
    "    return multiply\n",
    "\n",
    "\n",
    "def kij(first, second, m, n, l):\n",
    "    multiply = np.zeros((m, n))\n",
    "    for k in range(0, l):\n",
    "        for i in range(0, m):\n",
    "            for j in range(0, n):\n",
    "                multiply[i][j] += first[i][k] * second[k][j]\n",
    "    return multiply\n",
    "\n",
    "\n",
    "def kji(first, second, m, n, l):\n",
    "    multiply = np.zeros((m, n))\n",
    "    for k in range(0, l):\n",
    "        for j in range(0, n):\n",
    "            for i in range(0, m):\n",
    "                multiply[i][j] += first[i][k] * second[k][j]\n",
    "    return multiply\n",
    "\n",
    "\n",
    "def ijk(first, second, m, n, l):\n",
    "    multiply = np.zeros((m, n))\n",
    "    for i in range(0, m):\n",
    "        for j in range(0, n):\n",
    "            for k in range(0, l):\n",
    "                multiply[i][j] += first[i][k] * second[k][j]\n",
    "    return multiply\n",
    "\n",
    "\n",
    "def ikj(first, second, m, n, l):\n",
    "    multiply = np.zeros((m, n))\n",
    "    for i in range(0, m):\n",
    "        for k in range(0, n):\n",
    "            for j in range(0, l):\n",
    "                multiply[i][j] += first[i][k] * second[k][j]\n",
    "    return multiply\n",
    "\n",
    "\n",
    "sizes = [1000]\n",
    "algorithms = [ijk, ikj, kij, kji, jki, jik]\n",
    "samples_no = 1\n",
    "results = {s: pd.DataFrame(columns=[fun.__name__ for fun in algorithms]) for s in sizes}\n",
    "\n",
    "for size in sizes:\n",
    "    first = np.random.rand(size, size)\n",
    "    second = np.random.rand(size, size)\n",
    "    res = {}\n",
    "    for x in range(samples_no):\n",
    "        for algorithm in algorithms:\n",
    "            start = time.time()\n",
    "            algorithm(first, second, size, size, size)\n",
    "            stop = time.time()\n",
    "            exec_time = stop - start\n",
    "            res[algorithm.__name__] = exec_time\n",
    "            print(algorithm.__name__ + \" / \" + str(size) + \": \" + str(exec_time))\n",
    "        results[size] = results[size].append(res, ignore_index=True)"
   ]
  },
  {
   "cell_type": "code",
   "execution_count": 5,
   "metadata": {},
   "outputs": [
    {
     "data": {
      "text/plain": [
       "<AxesSubplot:>"
      ]
     },
     "execution_count": 5,
     "metadata": {},
     "output_type": "execute_result"
    },
    {
     "data": {
      "image/png": "[encoded data removed]",
      "text/plain": [
       "<Figure size 432x288 with 1 Axes>"
      ]
     },
     "metadata": {
      "needs_background": "light"
     },
     "output_type": "display_data"
    }
   ],
   "source": [
    "results[1000].mean().plot(kind='bar')"
   ]
  },
  {
   "cell_type": "code",
   "execution_count": null,
   "metadata": {},
   "outputs": [],
   "source": []
  }
 ],
 "metadata": {
  "kernelspec": {
   "display_name": "Python 3",
   "language": "python",
   "name": "python3"
  },
  "language_info": {
   "codemirror_mode": {
    "name": "ipython",
    "version": 3
   },
   "file_extension": ".py",
   "mimetype": "text/x-python",
   "name": "python",
   "nbconvert_exporter": "python",
   "pygments_lexer": "ipython3",
   "version": "3.8.5"
  }
 },
 "nbformat": 4,
 "nbformat_minor": 4
}
